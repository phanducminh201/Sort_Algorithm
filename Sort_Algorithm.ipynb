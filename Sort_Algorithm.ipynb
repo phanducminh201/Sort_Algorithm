{
  "nbformat": 4,
  "nbformat_minor": 0,
  "metadata": {
    "colab": {
      "provenance": [],
      "authorship_tag": "ABX9TyOzCyyJO2yCqF7Gk2IwSFRS",
      "include_colab_link": true
    },
    "kernelspec": {
      "name": "python3",
      "display_name": "Python 3"
    },
    "language_info": {
      "name": "python"
    }
  },
  "cells": [
    {
      "cell_type": "markdown",
      "metadata": {
        "id": "view-in-github",
        "colab_type": "text"
      },
      "source": [
        "<a href=\"https://colab.research.google.com/github/phanducminh201/Sort_Algorithm/blob/main/Sort_Algorithm.ipynb\" target=\"_parent\"><img src=\"https://colab.research.google.com/assets/colab-badge.svg\" alt=\"Open In Colab\"/></a>"
      ]
    },
    {
      "cell_type": "markdown",
      "source": [
        "# **IMPORTING THE LIBRARIES**"
      ],
      "metadata": {
        "id": "lTCD0eoKYh9F"
      }
    },
    {
      "cell_type": "code",
      "source": [
        "import numpy as np\n",
        "import copy as cp\n",
        "import statistics as st"
      ],
      "metadata": {
        "id": "RILR4x_1_T3x"
      },
      "execution_count": null,
      "outputs": []
    },
    {
      "cell_type": "markdown",
      "source": [
        "# **SELECTION SORT**"
      ],
      "metadata": {
        "id": "VuaxRn8WYowb"
      }
    },
    {
      "cell_type": "code",
      "source": [
        "#sắp xếp chọn theo giá trị lớn nhất\n",
        "B = [9,8,7,6,5,4,3,2,1]\n",
        "print(B)\n",
        "\n",
        "def tim_vt_max(mang, vt):\n",
        "  indx = vt\n",
        "  for i in range(0, vt):\n",
        "    if mang[i] > mang[indx]:\n",
        "      indx = i\n",
        "  return indx\n",
        "\n",
        "\n",
        "M = len(B)\n",
        "vt_batdau = M-1\n",
        "while (vt_batdau > 0):\n",
        "  max_id = tim_vt_max(B, vt_batdau)\n",
        "  B[vt_batdau], B[max_id] = B[max_id], B[vt_batdau]\n",
        "  vt_batdau -= 1\n",
        "  print(*B)\n",
        "print(*B)"
      ],
      "metadata": {
        "colab": {
          "base_uri": "https://localhost:8080/"
        },
        "id": "RjXw6It57fro",
        "outputId": "a13b4ab0-3f5e-4555-f869-281a903a30f0"
      },
      "execution_count": null,
      "outputs": [
        {
          "output_type": "stream",
          "name": "stdout",
          "text": [
            "[9, 8, 7, 6, 5, 4, 3, 2, 1]\n",
            "1 8 7 6 5 4 3 2 9\n",
            "1 2 7 6 5 4 3 8 9\n",
            "1 2 3 6 5 4 7 8 9\n",
            "1 2 3 4 5 6 7 8 9\n",
            "1 2 3 4 5 6 7 8 9\n",
            "1 2 3 4 5 6 7 8 9\n",
            "1 2 3 4 5 6 7 8 9\n",
            "1 2 3 4 5 6 7 8 9\n",
            "1 2 3 4 5 6 7 8 9\n"
          ]
        }
      ]
    },
    {
      "cell_type": "code",
      "source": [
        "#sap xep chon theo gia tri min (tang dan)\n",
        "B = [1,3,9,2,5,10,7,15,1,8]\n",
        "print(B)\n",
        "\n",
        "def tim_vt_min(mang, vt):\n",
        "  indx = vt\n",
        "  print(\"vtbd=\", indx)\n",
        "  for i in range(0, vt):\n",
        "    if mang[i] > mang[indx]:\n",
        "      indx = i\n",
        "  return indx\n",
        "\n",
        "M = len(B)\n",
        "vt_bd = M - 1\n",
        "while(vt_bd > 0):\n",
        "  min_indx = tim_vt_min(B, vt_bd)\n",
        "  B[min_indx], B[vt_bd] = B[vt_bd], B[min_indx]\n",
        "  vt_bd -= 1\n",
        "  print(*B)\n",
        "print(*B)"
      ],
      "metadata": {
        "colab": {
          "base_uri": "https://localhost:8080/"
        },
        "id": "9k4968cZKeHR",
        "outputId": "a6c971be-9f7d-44e2-aaf9-9928f5d6cccb"
      },
      "execution_count": null,
      "outputs": [
        {
          "output_type": "stream",
          "name": "stdout",
          "text": [
            "[1, 3, 9, 2, 5, 10, 7, 15, 1, 8]\n",
            "vtbd= 9\n",
            "1 3 9 2 5 10 7 8 1 15\n",
            "vtbd= 8\n",
            "1 3 9 2 5 1 7 8 10 15\n",
            "vtbd= 7\n",
            "1 3 8 2 5 1 7 9 10 15\n",
            "vtbd= 6\n",
            "1 3 7 2 5 1 8 9 10 15\n",
            "vtbd= 5\n",
            "1 3 1 2 5 7 8 9 10 15\n",
            "vtbd= 4\n",
            "1 3 1 2 5 7 8 9 10 15\n",
            "vtbd= 3\n",
            "1 2 1 3 5 7 8 9 10 15\n",
            "vtbd= 2\n",
            "1 1 2 3 5 7 8 9 10 15\n",
            "vtbd= 1\n",
            "1 1 2 3 5 7 8 9 10 15\n",
            "1 1 2 3 5 7 8 9 10 15\n"
          ]
        }
      ]
    },
    {
      "cell_type": "code",
      "source": [
        "#sắp xếp chọn theo giá trị nhỏ nhất (giảm dần)\n",
        "C = [1,3,5,7,9,11,13,15]\n",
        "\n",
        "def tim_vt_min(mang, vt):\n",
        "\tidx = vt\n",
        "\tfor i in range(vt, len(mang)):\n",
        "\t\tif mang[i] > mang[idx]:\n",
        "\t\t\tidx = i\n",
        "\treturn idx\n",
        "\n",
        "\n",
        "N = len(C)\n",
        "vt_batdau = 0\n",
        "print(*C)\n",
        "while(vt_batdau < N-1):\n",
        "  min_id = tim_vt_min(C,vt_batdau)\n",
        "  C[vt_batdau], C[min_id] = C[min_id], C[vt_batdau]\n",
        "  vt_batdau +=1\n",
        "  print(*C)\n",
        "print(*C)"
      ],
      "metadata": {
        "colab": {
          "base_uri": "https://localhost:8080/"
        },
        "collapsed": true,
        "id": "naPCFqO1Pr1N",
        "outputId": "229df17c-e9c7-431e-eb19-fb220b46a559"
      },
      "execution_count": null,
      "outputs": [
        {
          "output_type": "stream",
          "name": "stdout",
          "text": [
            "1 3 5 7 9 11 13 15\n",
            "15 3 5 7 9 11 13 1\n",
            "15 13 5 7 9 11 3 1\n",
            "15 13 11 7 9 5 3 1\n",
            "15 13 11 9 7 5 3 1\n",
            "15 13 11 9 7 5 3 1\n",
            "15 13 11 9 7 5 3 1\n",
            "15 13 11 9 7 5 3 1\n",
            "15 13 11 9 7 5 3 1\n"
          ]
        }
      ]
    },
    {
      "cell_type": "code",
      "source": [
        "#sắp xếp chọn theo giá trị lớn nhất (giảm dần)\n",
        "C = [1,3,5,7,9,11,13,15]\n",
        "\n",
        "def tim_vt_max(mang, vt): #vt = M-1\n",
        "  indx = vt\n",
        "  for i in range(0, vt):\n",
        "    if mang[i] < mang[indx]:\n",
        "      indx = i\n",
        "  return indx\n",
        "\n",
        "\n",
        "M = len(C)\n",
        "vt_batdau = M-1\n",
        "while (vt_batdau > 0):\n",
        "  max_id = tim_vt_max(C, vt_batdau)\n",
        "  C[vt_batdau], C[max_id] = C[max_id], C[vt_batdau]\n",
        "  vt_batdau -= 1\n",
        "  print(*C)\n",
        "print(*C)"
      ],
      "metadata": {
        "colab": {
          "base_uri": "https://localhost:8080/"
        },
        "id": "UvnnoSy2SFiz",
        "outputId": "a121a75f-16d8-402d-ad55-c5e57a1d1f6e"
      },
      "execution_count": null,
      "outputs": [
        {
          "output_type": "stream",
          "name": "stdout",
          "text": [
            "15 3 5 7 9 11 13 1\n",
            "15 13 5 7 9 11 3 1\n",
            "15 13 11 7 9 5 3 1\n",
            "15 13 11 9 7 5 3 1\n",
            "15 13 11 9 7 5 3 1\n",
            "15 13 11 9 7 5 3 1\n",
            "15 13 11 9 7 5 3 1\n",
            "15 13 11 9 7 5 3 1\n"
          ]
        }
      ]
    },
    {
      "cell_type": "markdown",
      "source": [
        "# **BUBBLE SORT**"
      ],
      "metadata": {
        "id": "dAKgZKMAYyZS"
      }
    },
    {
      "cell_type": "code",
      "source": [
        "C = [5, 3, 8, 4, 6]\n",
        "\n",
        "#sắp xếp nổi bọt\n",
        "def sxnb(mang):\n",
        "  tmp = cp.copy(mang)\n",
        "  for i in range(len(tmp)-1):\n",
        "    print(\"i=\", i)\n",
        "    for j in range(i+1, len(tmp)):\n",
        "      if mang[i] > mang[j]:\n",
        "        mang[i], mang[j] = mang[j], mang[i]\n",
        "        print(*mang)\n",
        "  return mang"
      ],
      "metadata": {
        "id": "5vZcce0pKtd0"
      },
      "execution_count": null,
      "outputs": []
    },
    {
      "cell_type": "code",
      "source": [
        "print(C)\n",
        "sxnb(C)"
      ],
      "metadata": {
        "colab": {
          "base_uri": "https://localhost:8080/"
        },
        "id": "g0uB0NUEOhHD",
        "outputId": "4f60e25e-29c6-440a-dd41-aeee13258b36"
      },
      "execution_count": null,
      "outputs": [
        {
          "output_type": "stream",
          "name": "stdout",
          "text": [
            "[5, 3, 8, 4, 6]\n",
            "i= 0\n",
            "3 5 8 4 6\n",
            "i= 1\n",
            "3 4 8 5 6\n",
            "i= 2\n",
            "3 4 5 8 6\n",
            "i= 3\n",
            "3 4 5 6 8\n"
          ]
        },
        {
          "output_type": "execute_result",
          "data": {
            "text/plain": [
              "[3, 4, 5, 6, 8]"
            ]
          },
          "metadata": {},
          "execution_count": 35
        }
      ]
    },
    {
      "cell_type": "markdown",
      "source": [
        "# **INSERTION SORT**"
      ],
      "metadata": {
        "id": "pfUm4ix9ZN96"
      }
    },
    {
      "cell_type": "code",
      "source": [
        "def sapxepChen(mang):\n",
        "  m = np.copy(mang) # Bước 1: Tạo bản sao của mảng input\n",
        "  i = 1 # Bước 2: Bắt đầu từ phần tử thứ 2 (index 1)\n",
        "  n = len(m) # Bước 3: Lấy chiều dài của mảng\n",
        "\n",
        "  while(i < n): # Bước 4: Lặp qua các phần tử từ vị trí thứ 2 đến cuối mảng\n",
        "    key = m[i] # Bước 5: Lưu giá trị của phần tử cần chèn (key)\n",
        "    print(\"key=\", key)\n",
        "    j = i-1 # Bước 6: Chỉ số j được đặt là phần tử ngay trước key\n",
        "    print(\"j=\", j)\n",
        "    while j >= 0 and m[j] > key: # Bước 7: Di chuyển các phần tử lớn hơn key sang một vị trí phía sau\n",
        "      m[j+1] = m[j] # Di chuyển m[j] lên một vị trí\n",
        "      j-=1 # Giảm j xuống để tiếp tục kiểm tra phần tử trước đó\n",
        "      print(\"j= \", j)\n",
        "    # Bước 8: Chèn key vào vị trí thích hợp\n",
        "    print(m[j+1])\n",
        "    m[j+1] = key # Đặt key vào đúng vị trí sau khi các phần tử lớn hơn đã bị di chuyển\n",
        "    i+=1 # Bước 9: Tiến tới phần tử tiếp theo\n",
        "    print(*m)\n",
        "  return m"
      ],
      "metadata": {
        "id": "w0L0aIMdaHSB"
      },
      "execution_count": null,
      "outputs": []
    },
    {
      "cell_type": "code",
      "source": [
        "a = [4,5,3,2,1,9,7,5]\n",
        "print(a)\n",
        "print(sapxepChen(a))"
      ],
      "metadata": {
        "colab": {
          "base_uri": "https://localhost:8080/"
        },
        "id": "CY-6Nhyr_l6m",
        "outputId": "612ff9db-a360-46ce-9cef-9d9333adc059"
      },
      "execution_count": null,
      "outputs": [
        {
          "output_type": "stream",
          "name": "stdout",
          "text": [
            "[4, 5, 3, 2, 1, 9, 7, 5]\n",
            "key= 5\n",
            "j= 0\n",
            "5\n",
            "4 5 3 2 1 9 7 5\n",
            "key= 3\n",
            "j= 1\n",
            "j=  0\n",
            "j=  -1\n",
            "4\n",
            "3 4 5 2 1 9 7 5\n",
            "key= 2\n",
            "j= 2\n",
            "j=  1\n",
            "j=  0\n",
            "j=  -1\n",
            "3\n",
            "2 3 4 5 1 9 7 5\n",
            "key= 1\n",
            "j= 3\n",
            "j=  2\n",
            "j=  1\n",
            "j=  0\n",
            "j=  -1\n",
            "2\n",
            "1 2 3 4 5 9 7 5\n",
            "key= 9\n",
            "j= 4\n",
            "9\n",
            "1 2 3 4 5 9 7 5\n",
            "key= 7\n",
            "j= 5\n",
            "j=  4\n",
            "9\n",
            "1 2 3 4 5 7 9 5\n",
            "key= 5\n",
            "j= 6\n",
            "j=  5\n",
            "j=  4\n",
            "7\n",
            "1 2 3 4 5 5 7 9\n",
            "[1 2 3 4 5 5 7 9]\n"
          ]
        }
      ]
    },
    {
      "cell_type": "markdown",
      "source": [
        "# **MERGE SORT**"
      ],
      "metadata": {
        "id": "j250_Zt1ZZpp"
      }
    },
    {
      "cell_type": "code",
      "source": [
        "#merge sort (sắp xếp tăng dần)\n",
        "def hopnhat(mleft, mright):\n",
        "  L = np.copy(mleft)\n",
        "  R = np.copy(mright)\n",
        "  i = j = 0\n",
        "  kq = []\n",
        "  while(i < len(L) and j < len(R)):\n",
        "    if(L[i] < R[j]):\n",
        "      kq.append(L[i])\n",
        "      i+=1\n",
        "    else:\n",
        "      kq.append(R[j])\n",
        "      j+=1\n",
        "  while(i <len(L)):\n",
        "    kq.append(L[i])\n",
        "    i+=1\n",
        "  while(j < len(R)):\n",
        "    kq.append(R[j])\n",
        "    j+=1\n",
        "  print(*kq)\n",
        "  return kq\n",
        "\n",
        "def sxhn(mang):\n",
        "  m = np.copy(mang)\n",
        "  if len(m) <=1:\n",
        "    return mang\n",
        "  k = len(m)//2\n",
        "  L = np.copy(m[:k])\n",
        "  R = np.copy(m[k:])\n",
        "  print(L)\n",
        "  print(R)\n",
        "  return hopnhat(sxhn(L), sxhn(R))"
      ],
      "metadata": {
        "id": "iw8w4Og50UtG"
      },
      "execution_count": null,
      "outputs": []
    },
    {
      "cell_type": "code",
      "source": [
        "a = [4,5,3,2,1,9,7,5]\n",
        "print(sxhn(a))"
      ],
      "metadata": {
        "colab": {
          "base_uri": "https://localhost:8080/"
        },
        "id": "k8_gA9Cw0bft",
        "outputId": "0f2e02fe-03d9-41d7-ceb3-a37018092eaf"
      },
      "execution_count": null,
      "outputs": [
        {
          "output_type": "stream",
          "name": "stdout",
          "text": [
            "[4 5 3 2]\n",
            "[1 9 7 5]\n",
            "[4 5]\n",
            "[3 2]\n",
            "[4]\n",
            "[5]\n",
            "4 5\n",
            "[3]\n",
            "[2]\n",
            "2 3\n",
            "2 3 4 5\n",
            "[1 9]\n",
            "[7 5]\n",
            "[1]\n",
            "[9]\n",
            "1 9\n",
            "[7]\n",
            "[5]\n",
            "5 7\n",
            "1 5 7 9\n",
            "1 2 3 4 5 5 7 9\n",
            "[1, 2, 3, 4, 5, 5, 7, 9]\n"
          ]
        }
      ]
    },
    {
      "cell_type": "code",
      "source": [
        "#merge sort (sắp xếp giảm dần)\n",
        "def hopnhat(mleft, mright):\n",
        "  L = np.copy(mleft)\n",
        "  R = np.copy(mright)\n",
        "  i = j = 0\n",
        "  kq = []\n",
        "  while(i < len(L) and j < len(R)):\n",
        "    if(L[i] > R[j]):\n",
        "      kq.append(L[i])\n",
        "      i+=1\n",
        "    else:\n",
        "      kq.append(R[j])\n",
        "      j+=1\n",
        "  while(i <len(L)):\n",
        "    kq.append(L[i])\n",
        "    i+=1\n",
        "  while(j < len(R)):\n",
        "    kq.append(R[j])\n",
        "    j+=1\n",
        "  return kq\n",
        "\n",
        "def sxhn(mang):\n",
        "  m = np.copy(mang)\n",
        "  if len(m) <=1:\n",
        "    return mang\n",
        "  k = len(m)//2\n",
        "  L = np.copy(m[:k])\n",
        "  R = np.copy(m[k:])\n",
        "  return hopnhat(sxhn(L), sxhn(R))"
      ],
      "metadata": {
        "id": "mJdnIV37n0Qm"
      },
      "execution_count": null,
      "outputs": []
    },
    {
      "cell_type": "code",
      "source": [
        "a = [1,2,7,9,8,1,3]"
      ],
      "metadata": {
        "id": "2DBym-VD0Fia"
      },
      "execution_count": null,
      "outputs": []
    },
    {
      "cell_type": "code",
      "source": [
        "print(sxhn(a))"
      ],
      "metadata": {
        "colab": {
          "base_uri": "https://localhost:8080/"
        },
        "id": "ssRaa4vI0G47",
        "outputId": "27844ea8-d858-404a-fd5a-96148aaa8c8b"
      },
      "execution_count": null,
      "outputs": [
        {
          "output_type": "stream",
          "name": "stdout",
          "text": [
            "[9, 8, 7, 3, 2, 1, 1]\n"
          ]
        }
      ]
    },
    {
      "cell_type": "code",
      "source": [
        "#xac dinh xem co hay khong 2 phan tu co tong bang mot tong cho truoc hay khong?\n",
        "def hopnhat(mleft, mright, tong):\n",
        "  L = np.copy(mleft)\n",
        "  R = np.copy(mright)\n",
        "  i = j = 0\n",
        "  kq = []\n",
        "  while(i < len(L) and j < len(R)):\n",
        "    if(L[i] + R[i]==M):\n",
        "      return True\n",
        "    elif(L[i] < R[j]):\n",
        "      kq.append(L[i])\n",
        "      i+=1\n",
        "    else:\n",
        "      kq.append(R[j])\n",
        "      j+=1\n",
        "  while(i <len(L)):\n",
        "    kq.append(L[i])\n",
        "    i+=1\n",
        "  while(j < len(R)):\n",
        "    kq.append(R[j])\n",
        "    j+=1\n",
        "  return kq\n",
        "\n",
        "def sxhn(mang, tong):\n",
        "  m = np.copy(mang)\n",
        "  if len(m) <=1:\n",
        "    return mang\n",
        "  k = len(m)//2\n",
        "  L = np.copy(m[:k])\n",
        "  R = np.copy(m[k:])\n",
        "  return hopnhat(sxhn(L, tong), sxhn(R, tong), tong)"
      ],
      "metadata": {
        "id": "fDql7GV72qgO"
      },
      "execution_count": null,
      "outputs": []
    },
    {
      "cell_type": "code",
      "source": [
        "a = [1,3,9,2,5]\n",
        "M = 8\n",
        "print(sxhn(a, 8))"
      ],
      "metadata": {
        "colab": {
          "base_uri": "https://localhost:8080/"
        },
        "id": "8KSYl1s15Lcl",
        "outputId": "aa70ca82-c57d-4ea3-a1b8-173ac7ebc692"
      },
      "execution_count": null,
      "outputs": [
        {
          "output_type": "stream",
          "name": "stdout",
          "text": [
            "True\n"
          ]
        }
      ]
    },
    {
      "cell_type": "code",
      "source": [
        "A = np.random.randint(0, 10000, 10**6)\n",
        "print(len(A))\n",
        "sxhn(a, 8)"
      ],
      "metadata": {
        "colab": {
          "base_uri": "https://localhost:8080/"
        },
        "id": "pw8R9Ot380hL",
        "outputId": "caddc30b-1f8e-4135-9216-d75aa9137063"
      },
      "execution_count": null,
      "outputs": [
        {
          "output_type": "stream",
          "name": "stdout",
          "text": [
            "1000000\n"
          ]
        },
        {
          "output_type": "execute_result",
          "data": {
            "text/plain": [
              "True"
            ]
          },
          "metadata": {},
          "execution_count": 17
        }
      ]
    },
    {
      "cell_type": "code",
      "source": [
        "import time\n",
        "t1 = time.time()\n",
        "sxhn(a, 8)\n",
        "t2 = time.time()\n",
        "print(t2-t1)"
      ],
      "metadata": {
        "colab": {
          "base_uri": "https://localhost:8080/"
        },
        "id": "o1-pf9fw9GFo",
        "outputId": "b96de717-3649-4578-e31d-1bcc05acd725"
      },
      "execution_count": null,
      "outputs": [
        {
          "output_type": "stream",
          "name": "stdout",
          "text": [
            "0.0002472400665283203\n"
          ]
        }
      ]
    }
  ]
}